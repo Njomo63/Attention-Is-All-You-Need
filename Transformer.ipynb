{
  "nbformat": 4,
  "nbformat_minor": 0,
  "metadata": {
    "colab": {
      "provenance": [],
      "collapsed_sections": [],
      "authorship_tag": "ABX9TyOZabR4drg3wkdEJ2HL4PAF"
    },
    "kernelspec": {
      "name": "python3",
      "display_name": "Python 3"
    },
    "language_info": {
      "name": "python"
    }
  },
  "cells": [
    {
      "cell_type": "code",
      "execution_count": 1,
      "metadata": {
        "id": "f8zhwWXuX4Xy"
      },
      "outputs": [],
      "source": [
        "import typing\n",
        "from copy import deepcopy\n",
        "import math\n",
        "\n",
        "import torch\n",
        "import torch.nn as nn\n",
        "import torch.nn.functional as F"
      ]
    },
    {
      "cell_type": "code",
      "source": [
        "class Encoder(nn.Module):\n",
        "    \"\"\"Encoder architecture of the Transformer that includes N stacked layers.\"\"\"\n",
        "    def __init__(self, layer, N=6):\n",
        "        super(Encoder, self).__init__()\n",
        "        self.layers = nn.ModuleList([deepcopy(layer) for _ in range(N)])\n",
        "\n",
        "        def forward(self, x):\n",
        "            for layer in self.layers:\n",
        "                x = layer(x)\n",
        "            return x"
      ],
      "metadata": {
        "id": "3DM3Y6aujtFv"
      },
      "execution_count": 2,
      "outputs": []
    },
    {
      "cell_type": "code",
      "source": [
        "class EncoderLayer(nn.Module):\n",
        "    \"\"\"Encoder Layer that consists of two sublayers\n",
        "            1. Multi-head self attention\n",
        "            2. Feed Forward Neural Network (FFNN)\n",
        "        There's a residual connection followed by layer normalization\n",
        "        joining the two layers.\n",
        "    \"\"\"\n",
        "    def __init__(self, self_attn, ffnn):\n",
        "        super(EncoderLayer, self).__init__()\n",
        "        self.self_attn = self_attn\n",
        "        self.ffnn = ffnn\n",
        "        self.sublayer = nn.ModuleList([SubLayerConnection() for _ in range(2)])  \n",
        "\n",
        "        def forward(self, x):\n",
        "            x = self.sublayer[0](x, self.self_attn)\n",
        "            return self.sublayer[1](x, self.ffnn)"
      ],
      "metadata": {
        "id": "zoaXJ0TsmNvg"
      },
      "execution_count": 3,
      "outputs": []
    },
    {
      "cell_type": "code",
      "source": [
        "class FeedForwardNetwork(nn.Module):\n",
        "    \"\"\"A simple, positionwise fully connected feed-forward network\n",
        "            FFN(x) = max(0, xW1 + b1)W2 + b2\n",
        "    \"\"\"\n",
        "    \n",
        "    def __init__(self, d_model: int = 512, d_ff: int = 2048):\n",
        "        super(FeedForwardNetwork, self).__init__()\n",
        "        self.W_1 = nn.Linear(d_model, d_ff)\n",
        "        self.W_2 = nn.Linear(d_ff, d_model)\n",
        "\n",
        "    def forward(self, x):\n",
        "        return self.W_2(self.W_1(x).relu())"
      ],
      "metadata": {
        "id": "7ODLdvBbNoz2"
      },
      "execution_count": 4,
      "outputs": []
    },
    {
      "cell_type": "code",
      "source": [
        "class SubLayerConnection(nn.Module):\n",
        "    \"\"\"Creates a residual connection and performs Layer Normalization for a\n",
        "    sublayer.\n",
        "            LayerNorm(x + Sublayer(x))\n",
        "    \"\"\"\n",
        "    def __init__(self, dropout: float = 0.1, size: int = 512):\n",
        "        super(SubLayerConnection, self).__init__()\n",
        "        self.dropout = nn.Dropout(dropout)\n",
        "        self.norm = nn.LayerNorm(size)\n",
        "        \n",
        "    def forward(self, x, sublayer):\n",
        "        \"\"\"apply dropout to the output of each sub-layer, \n",
        "        before it is added to the sub-layer input and normalized.\"\"\"\n",
        "        return self.norm(x+sublayer(self.dropout(x)))"
      ],
      "metadata": {
        "id": "OFjgMb45-OrI"
      },
      "execution_count": 5,
      "outputs": []
    },
    {
      "cell_type": "code",
      "source": [
        "class Decoder(nn.Module):\n",
        "    \"\"\"Decoder architecture of the Transformer that includes N stacked layers.\"\"\"\n",
        "\n",
        "    def __init__(self, layer, N: int = 6):\n",
        "        super(Decoder, self).__init__\n"
      ],
      "metadata": {
        "id": "GmpzgzAFmBv8"
      },
      "execution_count": 6,
      "outputs": []
    },
    {
      "cell_type": "code",
      "source": [
        "class DecoderLayer(nn.Module):\n",
        "    \"\"\"Encoder Layer that consists of two sublayers\n",
        "            1. Multi-head self attention\n",
        "            2. Feed Forward Neural Network (FFNN)\n",
        "            3. Multi-head attention over the output of the encoder stack\n",
        "        There's a residual connection followed by layer normalization\n",
        "        between each layer. \n",
        "        The self-attention layer masks subsequent positions.\n",
        "    \"\"\"\n",
        "    def __init__(self, self_attn, cross_attn, ffnn):\n",
        "        super(EncoderLayer, self).__init__()\n",
        "        self.self_attn = self_attn\n",
        "        self.cross_attn = cross_attn\n",
        "        self.ffnn = ffnn\n",
        "        self.sublayer = nn.ModuleList([SubLayerConnection() for _ in range(3)]) \n",
        "\n",
        "    def forward(self, x, memory, src_mask, tgt_mask):\n",
        "        x = self.sublayer[0](x, lambda x: self.self_attn(x, tgt_mask)) \n",
        "        x = self.sublayer[1](x, lambda x: self.cross_attn(x, memory, src_mask))\n",
        "        return self.sublayer[2](x, self.ffnn)"
      ],
      "metadata": {
        "id": "tsi6gKfgmgwe"
      },
      "execution_count": 7,
      "outputs": []
    },
    {
      "cell_type": "code",
      "source": [
        "def attention(query, key, value, mask=None):\n",
        "    d_k = query.shape[-1]\n",
        "    scores = torch.matmul(query,key.transpose(1,2)) / math.sqrt(d_k)\n",
        "    if mask:\n",
        "        scores.masked_fill_(mask==0, float(\"-inf\"))\n",
        "    log_probs = nn.LogSoftmax(dim=-1)(scores)\n",
        "    return torch.matmul(log_probs, value)"
      ],
      "metadata": {
        "id": "OiWwc8u2OzJO"
      },
      "execution_count": 8,
      "outputs": []
    },
    {
      "cell_type": "code",
      "source": [
        "class MultiSelfAttn(nn.Module):\n",
        "    \"\"\"Performs multihead self attention\"\"\"\n",
        "\n",
        "    def __init__(self, heads=8, d_model=512):\n",
        "        super(MultiSelfAttn, self).__init__()\n",
        "        d_k = d_v = d_model//heads\n",
        "        self.W_Q = nn.ModuleList(\n",
        "            [nn.Linear(d_model, d_k, bias=False) for _ in range(heads)]\n",
        "            )\n",
        "        self.W_K = nn.ModuleList(\n",
        "            [nn.Linear(d_model, d_k, bias=False) for _ in range(heads)]\n",
        "            )\n",
        "        self.W_V = nn.ModuleList(\n",
        "            [nn.Linear(d_model, d_v, bias=False) for _ in range(heads)]\n",
        "            )\n",
        "        self.W_O = nn.Linear(heads*d_v, d_model)\n",
        "        self.heads = heads\n",
        "\n",
        "    def forward(self, x, mask=None):\n",
        "        multihead_dotP = []\n",
        "        for head in range(self.heads):\n",
        "            Q = self.W_Q[head](x)\n",
        "            K = self.W_K[head](x)\n",
        "            V = self.W_V[head](x)\n",
        "            multihead_dotP.append(attention(Q, K, V, mask))\n",
        "        multihead_attn = torch.cat(multihead_dotP, dim=-1)\n",
        "        return self.W_O(multihead_attn)"
      ],
      "metadata": {
        "id": "U2pEq1bCT_hI"
      },
      "execution_count": 9,
      "outputs": []
    },
    {
      "cell_type": "code",
      "source": [
        "class MultiCrossAttn(nn.Module):\n",
        "    \"\"\"Performs multi-head cross attention between encoder\n",
        "    and decoder.\"\"\"\n",
        "\n",
        "    def __init__(self, heads=8, d_model=512):\n",
        "        super(MultiCrossAttn, self).__init__()\n",
        "        d_k = d_v = d_model//heads\n",
        "        self.W_Q = nn.ModuleList(\n",
        "            [nn.Linear(d_model, d_k, bias=False) for _ in range(heads)]\n",
        "            )\n",
        "        self.W_K = nn.ModuleList(\n",
        "            [nn.Linear(d_model, d_k, bias=False) for _ in range(heads)]\n",
        "            )\n",
        "        self.W_V = nn.ModuleList(\n",
        "            [nn.Linear(d_model, d_v, bias=False) for _ in range(heads)]\n",
        "            )\n",
        "        self.W_O = nn.Linear(heads*d_v, d_model)\n",
        "        self.heads = heads\n",
        "\n",
        "    def forward(self, x, memory, mask=None):\n",
        "        multihead_dotP = []\n",
        "        for head in range(self.heads):\n",
        "            Q = self.W_Q[head](memory)\n",
        "            K = self.W_K[head](memory)\n",
        "            V = self.W_V[head](x)\n",
        "            multihead_dotP.append(attention(Q, K, V, mask))\n",
        "        multihead_attn = torch.cat(multihead_dotP, dim=-1)\n",
        "        return self.W_O(multihead_attn)"
      ],
      "metadata": {
        "id": "-0ZxrgRKbUis"
      },
      "execution_count": 10,
      "outputs": []
    }
  ]
}