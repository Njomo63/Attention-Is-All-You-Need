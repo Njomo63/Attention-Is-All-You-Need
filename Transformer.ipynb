{
  "nbformat": 4,
  "nbformat_minor": 0,
  "metadata": {
    "colab": {
      "provenance": [],
      "collapsed_sections": [],
      "authorship_tag": "ABX9TyOy0/mAvmZLn/DD+beLPhAq",
      "include_colab_link": true
    },
    "kernelspec": {
      "name": "python3",
      "display_name": "Python 3"
    },
    "language_info": {
      "name": "python"
    }
  },
  "cells": [
    {
      "cell_type": "markdown",
      "metadata": {
        "id": "view-in-github",
        "colab_type": "text"
      },
      "source": [
        "<a href=\"https://colab.research.google.com/github/Njomo63/Attention-Is-All-You-Need/blob/main/Transformer.ipynb\" target=\"_parent\"><img src=\"https://colab.research.google.com/assets/colab-badge.svg\" alt=\"Open In Colab\"/></a>"
      ]
    },
    {
      "cell_type": "code",
      "execution_count": 1,
      "metadata": {
        "id": "f8zhwWXuX4Xy"
      },
      "outputs": [],
      "source": [
        "import typing\n",
        "from copy import deepcopy\n",
        "import math\n",
        "\n",
        "import torch\n",
        "import torch.nn as nn\n",
        "import torch.nn.functional as F"
      ]
    },
    {
      "cell_type": "code",
      "source": [
        "X = torch.rand(2, 3, 512)"
      ],
      "metadata": {
        "id": "zePun17Xi3bY"
      },
      "execution_count": 60,
      "outputs": []
    },
    {
      "cell_type": "code",
      "source": [
        "class Encoder(nn.Module):\n",
        "    \"\"\"Encoder architecture of the Transformer that includes N stacked layers.\"\"\"\n",
        "    def __init__(self, layer, N=6):\n",
        "        super(Encoder, self).__init__()\n",
        "        self.layers = nn.ModuleList([deepcopy(layer) for _ in range(N)])\n",
        "\n",
        "        def forward(self, x):\n",
        "            for layer in self.layers:\n",
        "                x = layer(x)\n",
        "            return x"
      ],
      "metadata": {
        "id": "3DM3Y6aujtFv"
      },
      "execution_count": 59,
      "outputs": []
    },
    {
      "cell_type": "code",
      "source": [
        "class EncoderLayer(nn.Module):\n",
        "    \"\"\"Encoder Layer that consists of two sublayers\n",
        "            1. Multi-head self attention\n",
        "            2. Feed Forward Neural Network (FFNN)\n",
        "        There's a residual connection followed by layer normalization\n",
        "        joining the two layers.\n",
        "    \"\"\"\n",
        "    def __init__(self, self_attn, ffnn):\n",
        "        \"\"\"Params\n",
        "            head: number of attention heads\n",
        "            d_k: dimensions of key and query vectors\n",
        "            d_v: dimension of value vectors\n",
        "        \"\"\"\n",
        "        super(EncoderLayer, self).__init__()\n",
        "        self.attn = self_attn\n",
        "        self.ffnn = ffnn\n",
        "        self.sublayer1 = SubLayerConnection()\n",
        "        self.sublayer2 = SubLayerConnection()\n",
        "\n",
        "        def forward(self, x):\n",
        "            x = self.sublayer1(x, self.attn)\n",
        "            return self.sublayer2(x, self.ffnn)"
      ],
      "metadata": {
        "id": "zoaXJ0TsmNvg"
      },
      "execution_count": 55,
      "outputs": []
    },
    {
      "cell_type": "code",
      "source": [
        "class FeedForwardNetwork(nn.Module):\n",
        "    \"\"\"A simple, positionwise fully connected feed-forward network\n",
        "            FFN(x) = max(0, xW1 + b1)W2 + b2\n",
        "    \"\"\"\n",
        "    \n",
        "    def __init__(self, d_model: int = 512, d_ff: int = 2048):\n",
        "        super(FeedForwardNetwork, self).__init__()\n",
        "        self.W_1 = nn.Linear(d_model, d_ff)\n",
        "        self.W_2 = nn.Linear(d_ff, d_model)\n",
        "\n",
        "    def forward(self, x):\n",
        "        return self.W_2(self.W_1(x).relu())"
      ],
      "metadata": {
        "id": "7ODLdvBbNoz2"
      },
      "execution_count": 45,
      "outputs": []
    },
    {
      "cell_type": "code",
      "source": [
        "class SubLayerConnection(nn.Module):\n",
        "    \"\"\"Creates a residual connection and performs Layer Normalization for a\n",
        "    sublayer.\n",
        "            LayerNorm(x + Sublayer(x))\n",
        "    \"\"\"\n",
        "    def __init__(self, size: int = 512):\n",
        "        super(SubLayerConnection, self).__init__()\n",
        "        self.norm = nn.LayerNorm(size)\n",
        "        \n",
        "    def forward(self, x, sublayer):\n",
        "        return self.norm(x+sublayer(x))"
      ],
      "metadata": {
        "id": "OFjgMb45-OrI"
      },
      "execution_count": 49,
      "outputs": []
    },
    {
      "cell_type": "code",
      "source": [
        "class EncodeAttention(nn.Module):\n",
        "    \"\"\"Computes scaled dot product for an encoder attention head.\"\"\"\n",
        "    \n",
        "    def __init__(self, heads:int = 8, d_model:int = 512) -> None:\n",
        "        super(EncodeAttention, self).__init__()\n",
        "        d_k = d_v = d_model//heads\n",
        "        self.W_Q = nn.ModuleList(\n",
        "            [nn.Linear(d_model, d_k, bias=False) for _ in range(heads)]\n",
        "            )\n",
        "        self.W_K = nn.ModuleList(\n",
        "            [nn.Linear(d_model, d_k, bias=False) for _ in range(heads)]\n",
        "            )\n",
        "        self.W_V = nn.ModuleList(\n",
        "            [nn.Linear(d_model, d_v, bias=False) for _ in range(heads)]\n",
        "            )\n",
        "        self.W_O = nn.Linear(heads*d_v, d_model)\n",
        "        self.d_k = d_k\n",
        "        self.heads = heads\n",
        "\n",
        "    def forward(self, x):\n",
        "        multihead_dotP = []\n",
        "        for head in range(self.heads):\n",
        "            Q = self.W_Q[head](x)\n",
        "            K = self.W_K[head](x)\n",
        "            V = self.W_V[head](x)\n",
        "\n",
        "            res = torch.matmul(Q,K.transpose(1,2)) / math.sqrt(self.d_k)\n",
        "            res = torch.matmul(res, V)\n",
        "            multihead_dotP.append(nn.LogSoftmax(dim=-1)(res))\n",
        "        multihead_attn = torch.cat(multihead_dotP, dim=-1)\n",
        "        self.W_O(multihead_attn)\n",
        "        return self.W_O(multihead_attn)"
      ],
      "metadata": {
        "id": "QqIEENN3oVcC"
      },
      "execution_count": 111,
      "outputs": []
    }
  ]
}